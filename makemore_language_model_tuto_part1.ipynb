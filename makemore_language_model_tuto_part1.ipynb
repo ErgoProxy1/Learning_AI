{
  "nbformat": 4,
  "nbformat_minor": 0,
  "metadata": {
    "colab": {
      "provenance": [],
      "authorship_tag": "ABX9TyPMkxLgTuFeoIIW0OkUdwR8",
      "include_colab_link": true
    },
    "kernelspec": {
      "name": "python3",
      "display_name": "Python 3"
    },
    "language_info": {
      "name": "python"
    }
  },
  "cells": [
    {
      "cell_type": "markdown",
      "metadata": {
        "id": "view-in-github",
        "colab_type": "text"
      },
      "source": [
        "<a href=\"https://colab.research.google.com/github/ErgoProxy1/Learning_AI/blob/main/makemore_language_model_tuto_part1.ipynb\" target=\"_parent\"><img src=\"https://colab.research.google.com/assets/colab-badge.svg\" alt=\"Open In Colab\"/></a>"
      ]
    },
    {
      "cell_type": "markdown",
      "source": [
        "https://www.youtube.com/watch?v=PaCmpygFfXo&t=18s"
      ],
      "metadata": {
        "id": "xDE3H5QTxVf9"
      }
    },
    {
      "cell_type": "code",
      "execution_count": 6,
      "metadata": {
        "id": "Vm1UjQPylGC9"
      },
      "outputs": [],
      "source": [
        "words = open('names.txt', 'r').read().splitlines()"
      ]
    },
    {
      "cell_type": "code",
      "source": [
        "print(\"length\",len(words))\n",
        "print(\"min\", min(len(word) for word in words))\n",
        "print(\"max\", max(len(word) for word in words))"
      ],
      "metadata": {
        "colab": {
          "base_uri": "https://localhost:8080/"
        },
        "id": "1isAioOwm9xT",
        "outputId": "a3c3f822-07a0-4a73-de61-b1e94e74bfd4"
      },
      "execution_count": 7,
      "outputs": [
        {
          "output_type": "stream",
          "name": "stdout",
          "text": [
            "length 32033\n",
            "min 2\n",
            "max 15\n"
          ]
        }
      ]
    },
    {
      "cell_type": "markdown",
      "source": [
        "We want to create a character level generative language model. The goal is to be able to predict the next character given the previous sequence of characters before it.\n",
        "\n",
        "For example \"isabella\" tells us that 'i' is likely to come first, that 's' is likely to come after 'i', that 'a' is likely to come after 'is', etc. (Also that given 'isabella', the word is likely to end)\n",
        "\n",
        "There are many different types of language models:\n",
        "- Bigram\n",
        "- Bag of words\n",
        "- MLP\n",
        "- RNN\n",
        "- GRU\n",
        "- Transformer (GPT)\n",
        "\n"
      ],
      "metadata": {
        "id": "lLq9TJ98nlCS"
      }
    },
    {
      "cell_type": "markdown",
      "source": [
        "# Part 1: Bigram"
      ],
      "metadata": {
        "id": "ah9EfiBoom6a"
      }
    },
    {
      "cell_type": "markdown",
      "source": [
        "Very simple model, we always work with two chars at a time (Given x, what's likely after y)"
      ],
      "metadata": {
        "id": "Na2As6JwoxKQ"
      }
    },
    {
      "cell_type": "code",
      "source": [
        "for w in words[:3]:\n",
        "  for ch1, ch2 in zip(w, w[1:]): # Remember zip favors the shortest string, so for example emma is tuples between emma and mma\n",
        "    print(ch1, ch2)"
      ],
      "metadata": {
        "colab": {
          "base_uri": "https://localhost:8080/"
        },
        "id": "GWCbs_juouKQ",
        "outputId": "32f90d33-bea4-49af-98a0-63ed2dc0de25"
      },
      "execution_count": 8,
      "outputs": [
        {
          "output_type": "stream",
          "name": "stdout",
          "text": [
            "e m\n",
            "m m\n",
            "m a\n",
            "o l\n",
            "l i\n",
            "i v\n",
            "v i\n",
            "i a\n",
            "a v\n",
            "v a\n"
          ]
        }
      ]
    },
    {
      "cell_type": "code",
      "source": [
        "# Lets modify this a little to add a start and end indicator\n",
        "b = {}\n",
        "for w in words[:3]:\n",
        "  chs = ['<S>'] + list(w) + ['<E>']\n",
        "  for ch1, ch2 in zip(chs, chs[1:]): # Remember zip favors the shortest string, so for example emma is tuples between emma and mma\n",
        "    print(ch1, ch2)"
      ],
      "metadata": {
        "colab": {
          "base_uri": "https://localhost:8080/"
        },
        "id": "eCpR-kp0qKV1",
        "outputId": "0bee4033-30f5-4c11-9dc1-be1968a052ac"
      },
      "execution_count": 9,
      "outputs": [
        {
          "output_type": "stream",
          "name": "stdout",
          "text": [
            "<S> e\n",
            "e m\n",
            "m m\n",
            "m a\n",
            "a <E>\n",
            "<S> o\n",
            "o l\n",
            "l i\n",
            "i v\n",
            "v i\n",
            "i a\n",
            "a <E>\n",
            "<S> a\n",
            "a v\n",
            "v a\n",
            "a <E>\n"
          ]
        }
      ]
    },
    {
      "cell_type": "code",
      "source": [
        "# Now let's track our bigrams\n",
        "\n",
        "bigrams = {} # To keep a count of how often each bigram (pair of chars) occurs\n",
        "for w in words: # ALL THE WORDS\n",
        "  chs = ['<S>'] + list(w) + ['<E>']\n",
        "  for ch1, ch2 in zip(chs, chs[1:]): # Remember zip favors the shortest string, so for example emma is tuples between emma and mma\n",
        "    b = (ch1, ch2)\n",
        "    bigrams[b] = bigrams.get(b, 0) + 1\n",
        "# sorted(bigrams.items(), key = lambda kv: kv[1], reverse = True)"
      ],
      "metadata": {
        "id": "chUDhw0jq-IC"
      },
      "execution_count": 10,
      "outputs": []
    },
    {
      "cell_type": "code",
      "source": [
        "# We have a nice dictionary that tells us about the frequency of pairs, but for machine learning purposes, lets use pytorch tensors\n",
        "import torch"
      ],
      "metadata": {
        "id": "21F_cAH6tC2l"
      },
      "execution_count": 11,
      "outputs": []
    },
    {
      "cell_type": "code",
      "source": [
        "# Quick examples of tensors\n",
        "a = torch.zeros((3 , 5))\n",
        "print(a)\n",
        "print(a.dtype) #float32 by default\n",
        "print(a.shape)"
      ],
      "metadata": {
        "colab": {
          "base_uri": "https://localhost:8080/"
        },
        "id": "4TTPLQBftjMi",
        "outputId": "f3625314-abb2-4d06-a0a3-a31cb8f4aeff"
      },
      "execution_count": 12,
      "outputs": [
        {
          "output_type": "stream",
          "name": "stdout",
          "text": [
            "tensor([[0., 0., 0., 0., 0.],\n",
            "        [0., 0., 0., 0., 0.],\n",
            "        [0., 0., 0., 0., 0.]])\n",
            "torch.float32\n",
            "torch.Size([3, 5])\n"
          ]
        }
      ]
    },
    {
      "cell_type": "code",
      "source": [
        "b = torch.zeros((3 , 5), dtype = torch.int32)\n",
        "print(b)\n",
        "print(b.dtype)"
      ],
      "metadata": {
        "colab": {
          "base_uri": "https://localhost:8080/"
        },
        "id": "2dvOOafBt5OS",
        "outputId": "b6450aab-62d9-4c34-e54b-c74e9ff66f8e"
      },
      "execution_count": 13,
      "outputs": [
        {
          "output_type": "stream",
          "name": "stdout",
          "text": [
            "tensor([[0, 0, 0, 0, 0],\n",
            "        [0, 0, 0, 0, 0],\n",
            "        [0, 0, 0, 0, 0]], dtype=torch.int32)\n",
            "torch.int32\n"
          ]
        }
      ]
    },
    {
      "cell_type": "code",
      "source": [
        "# If we want to change the value at the first row in the 4th column (0 indexed ofc)\n",
        "b[1 , 3] = 10\n",
        "print(b)\n",
        "b[1, 3] += 1\n",
        "print(b)"
      ],
      "metadata": {
        "colab": {
          "base_uri": "https://localhost:8080/"
        },
        "id": "rfkHKRepuA06",
        "outputId": "ebfefff9-6fae-43ec-bf4e-635171536583"
      },
      "execution_count": 14,
      "outputs": [
        {
          "output_type": "stream",
          "name": "stdout",
          "text": [
            "tensor([[ 0,  0,  0,  0,  0],\n",
            "        [ 0,  0,  0, 10,  0],\n",
            "        [ 0,  0,  0,  0,  0]], dtype=torch.int32)\n",
            "tensor([[ 0,  0,  0,  0,  0],\n",
            "        [ 0,  0,  0, 11,  0],\n",
            "        [ 0,  0,  0,  0,  0]], dtype=torch.int32)\n"
          ]
        }
      ]
    },
    {
      "cell_type": "markdown",
      "source": [
        "So let's do it for our dataset. Remember we have a vocabulary size og 26+2 (letters of the alphabet plus our special chars \\<S\\> and \\<E\\>). So we'll need a tensor of 28x28 to represent each bigram (row would be the first char, column the second, and the value the frequency)"
      ],
      "metadata": {
        "id": "0nSBLlRpulLZ"
      }
    },
    {
      "cell_type": "code",
      "source": [
        "N = torch.zeros((28, 28), dtype = torch.int32)\n",
        "lookup_table = {s:i+1 for i, s in enumerate(sorted(list(set(''.join(words)))))} #Put all the words into a string, use set to remove all dups (so its just the alphabet), sort it, then create a dictionary that maps each letter to a number\n",
        "lookup_table['<S>'] = 26\n",
        "lookup_table['<E>'] = 26\n",
        "\n",
        "for w in words:\n",
        "  chs = ['<S>'] + list(w) + ['<E>']\n",
        "  for ch1, ch2 in zip(chs, chs[1:]):\n",
        "      ix1 = lookup_table[ch1] #index of first char\n",
        "      ix2 = lookup_table[ch2] #index of second char\n",
        "      N[ix1, ix2] += 1 # Keep count of occurences"
      ],
      "metadata": {
        "id": "9crXMAD0u89g"
      },
      "execution_count": 15,
      "outputs": []
    },
    {
      "cell_type": "code",
      "source": [
        "import matplotlib.pyplot as plt\n",
        "%matplotlib inline\n",
        "plt.imshow(N, cmap = 'Blues') # Just to show the tensor in a nicer way, he does it well in the video but Im going to skip it for now\n",
        "# However we can notice that the last row is completely empty as that represents the <E> char which will never not be at the end. Similar for the <S> and the second-to-last column."
      ],
      "metadata": {
        "colab": {
          "base_uri": "https://localhost:8080/",
          "height": 447
        },
        "id": "0lfO5G9hw4UN",
        "outputId": "7390505f-8444-43a6-c11a-bfaaabd7c756"
      },
      "execution_count": 16,
      "outputs": [
        {
          "output_type": "execute_result",
          "data": {
            "text/plain": [
              "<matplotlib.image.AxesImage at 0x7feebd451fc0>"
            ]
          },
          "metadata": {},
          "execution_count": 16
        },
        {
          "output_type": "display_data",
          "data": {
            "text/plain": [
              "<Figure size 640x480 with 1 Axes>"
            ],
            "image/png": "[encoded data removed]"
          },
          "metadata": {}
        }
      ]
    },
    {
      "cell_type": "code",
      "source": [
        "# Let's do it a bit more smartly to avoid empty columns and rows\n",
        "N = torch.zeros((27, 27), dtype = torch.int32) # One less column and row\n",
        "\n",
        "lookup_table = {s:i+1 for i, s in enumerate(sorted(list(set(''.join(words)))))} #offset by 1\n",
        "lookup_table['.'] = 0 # Set just a . as the first row and column. We don't need two characters as we can know logically when a word starts and ends.\n",
        "\n",
        "reverse_lookup = {i:s for s, i in lookup_table.items()}\n",
        "\n",
        "for w in words:\n",
        "  chs = ['.'] + list(w) + ['.'] # Just dots on both sides\n",
        "  for ch1, ch2 in zip(chs, chs[1:]):\n",
        "      ix1 = lookup_table[ch1] #index of first char\n",
        "      ix2 = lookup_table[ch2] #index of second char\n",
        "      N[ix1, ix2] += 1 # Keep count of occurences\n",
        "\n",
        "plt.imshow(N, cmap = 'Blues') # Thats a bit better"
      ],
      "metadata": {
        "colab": {
          "base_uri": "https://localhost:8080/",
          "height": 447
        },
        "id": "Uea6XwuHyZru",
        "outputId": "3452336d-3536-4602-c5ba-6939373491cb"
      },
      "execution_count": 17,
      "outputs": [
        {
          "output_type": "execute_result",
          "data": {
            "text/plain": [
              "<matplotlib.image.AxesImage at 0x7feebd4d6e00>"
            ]
          },
          "metadata": {},
          "execution_count": 17
        },
        {
          "output_type": "display_data",
          "data": {
            "text/plain": [
              "<Figure size 640x480 with 1 Axes>"
            ],
            "image/png": "[encoded data removed]"
          },
          "metadata": {}
        }
      ]
    },
    {
      "cell_type": "markdown",
      "source": [
        "We now have all the data we need neatly organized into a Tensor. Now we just need to follow these frequencies and start sampling."
      ],
      "metadata": {
        "id": "_6uLRwGtziV_"
      }
    },
    {
      "cell_type": "code",
      "source": [
        "N[0, :] #For example, this tells us how often each letter appears at the start (a 4410 times, b 1306 times, etc)"
      ],
      "metadata": {
        "colab": {
          "base_uri": "https://localhost:8080/"
        },
        "id": "M1mmDJXbzx8c",
        "outputId": "402cc91f-8d00-4c40-e5ed-f31eaccc5420"
      },
      "execution_count": 18,
      "outputs": [
        {
          "output_type": "execute_result",
          "data": {
            "text/plain": [
              "tensor([   0, 4410, 1306, 1542, 1690, 1531,  417,  669,  874,  591, 2422, 2963,\n",
              "        1572, 2538, 1146,  394,  515,   92, 1639, 2055, 1308,   78,  376,  307,\n",
              "         134,  535,  929], dtype=torch.int32)"
            ]
          },
          "metadata": {},
          "execution_count": 18
        }
      ]
    },
    {
      "cell_type": "code",
      "source": [
        "# lets now create our probability vector\n",
        "probs = N[0].float() # Convert to tensor\n",
        "probs = probs / probs.sum() # Normalize by dividing each occurence by the total occurences\n",
        "probs # And the total sum would be 1 since this is just a list of probabilities"
      ],
      "metadata": {
        "colab": {
          "base_uri": "https://localhost:8080/"
        },
        "id": "kv_IVcNO0Fv0",
        "outputId": "88128a7d-60b9-4f7a-ee35-113c784ebe7a"
      },
      "execution_count": 19,
      "outputs": [
        {
          "output_type": "execute_result",
          "data": {
            "text/plain": [
              "tensor([0.0000, 0.1377, 0.0408, 0.0481, 0.0528, 0.0478, 0.0130, 0.0209, 0.0273,\n",
              "        0.0184, 0.0756, 0.0925, 0.0491, 0.0792, 0.0358, 0.0123, 0.0161, 0.0029,\n",
              "        0.0512, 0.0642, 0.0408, 0.0024, 0.0117, 0.0096, 0.0042, 0.0167, 0.0290])"
            ]
          },
          "metadata": {},
          "execution_count": 19
        }
      ]
    },
    {
      "cell_type": "code",
      "source": [
        "g = torch.Generator().manual_seed(2147483647) # Allows us to define a generator for randomness control. We're using the same seed as the video here.\n",
        "probs_example = torch.rand(3, generator = g)\n",
        "probs_example = probs_example / probs_example.sum()\n",
        "probs_example # Confirming we're getting the same data every time"
      ],
      "metadata": {
        "colab": {
          "base_uri": "https://localhost:8080/"
        },
        "id": "8ug6cXLO0t8u",
        "outputId": "4abb2547-7027-4db7-a62d-cb12c4e5a083"
      },
      "execution_count": 20,
      "outputs": [
        {
          "output_type": "execute_result",
          "data": {
            "text/plain": [
              "tensor([0.6064, 0.3033, 0.0903])"
            ]
          },
          "metadata": {},
          "execution_count": 20
        }
      ]
    },
    {
      "cell_type": "code",
      "source": [
        "# https://pytorch.org/docs/stable/generated/torch.multinomial.html\n",
        "torch.multinomial(probs_example, num_samples = 30, replacement = True, generator = g) # We're going to sample based off the normalized probabilities vector. Replacement says we can pull the same sample more than once\n",
        "# In theory, 2 should appear less frequently than 1 and 1 less than 0, since 0 has a 60% chance, 30% for 1, and 10% for 2."
      ],
      "metadata": {
        "colab": {
          "base_uri": "https://localhost:8080/"
        },
        "id": "YyPRNEjY1V0c",
        "outputId": "3abc367d-1568-421d-a189-48bd51446044"
      },
      "execution_count": 21,
      "outputs": [
        {
          "output_type": "execute_result",
          "data": {
            "text/plain": [
              "tensor([1, 1, 2, 0, 0, 2, 1, 1, 0, 0, 0, 1, 1, 0, 0, 1, 1, 0, 0, 1, 0, 2, 0, 0,\n",
              "        1, 0, 0, 1, 0, 0])"
            ]
          },
          "metadata": {},
          "execution_count": 21
        }
      ]
    },
    {
      "cell_type": "markdown",
      "source": [
        "We can apply multinomial sampling in chain to create words!"
      ],
      "metadata": {
        "id": "OF_bq9vy2ubT"
      }
    },
    {
      "cell_type": "code",
      "source": [
        "# Here's a single iteration\n",
        "g = torch.Generator().manual_seed(2147483647)\n",
        "i1 = torch.multinomial(probs, num_samples = 1, replacement = True, generator = g).item() # First index sample\n",
        "print(reverse_lookup[i1]) # Gives us the letter\n",
        "\n",
        "probs2 = N[i1].float() # Get the matching row of i1\n",
        "probs2 = probs2 / probs2.sum() # Normalize\n",
        "\n",
        "i2 = torch.multinomial(probs2, num_samples = 1, replacement = True, generator = g).item() # Second index sample\n",
        "print(reverse_lookup[i2]) # So this tells us what letter comes after the first one"
      ],
      "metadata": {
        "colab": {
          "base_uri": "https://localhost:8080/"
        },
        "id": "O5vfFrCR28Gi",
        "outputId": "786ae092-c727-403b-8a93-61c7116bd171"
      },
      "execution_count": 22,
      "outputs": [
        {
          "output_type": "stream",
          "name": "stdout",
          "text": [
            "j\n",
            "u\n"
          ]
        }
      ]
    },
    {
      "cell_type": "code",
      "source": [
        "# So let's just do it\n",
        "g = torch.Generator().manual_seed(2147483647)\n",
        "\n",
        "Probabilities = (N+1).float() #Add 1 for model smoothing, we dont want 0 divisions\n",
        "# Always make sure to check broadcasting semantics https://pytorch.org/docs/stable/notes/broadcasting.html\n",
        "# Since ours is 27x27 and 27x1, we're all good\n",
        "Probabilities /= Probabilities.sum(1, keepdim=True) # Specify we want the sum with respect to the second dimension (columns) and to keep the dimensions (27x1 tensor, not 27 item list)\n",
        "\n",
        "for i in range(10):\n",
        "  out = []\n",
        "  ix = 0\n",
        "  while True:\n",
        "    p = Probabilities[ix]\n",
        "    ix = torch.multinomial(p, num_samples = 1, replacement = True, generator = g).item()\n",
        "    out.append(ix)\n",
        "    if ix == 0:\n",
        "      break\n",
        "  print(''.join(reverse_lookup[i] for i in out)) #Its terrible, but that's normal. It doesn't have any context beyond the current letter. Explains why sometimes it just generates a single letter, because it doesn't know that single letter was at the start."
      ],
      "metadata": {
        "colab": {
          "base_uri": "https://localhost:8080/"
        },
        "id": "8ANV0tST5KY3",
        "outputId": "bf18908e-0311-43c9-9de7-f87685fc7261"
      },
      "execution_count": 23,
      "outputs": [
        {
          "output_type": "stream",
          "name": "stdout",
          "text": [
            "junide.\n",
            "janasah.\n",
            "p.\n",
            "cony.\n",
            "a.\n",
            "nn.\n",
            "kohin.\n",
            "tolian.\n",
            "juee.\n",
            "ksahnaauranilevias.\n"
          ]
        }
      ]
    },
    {
      "cell_type": "markdown",
      "source": [
        "While what it generates isn't great, it's much better than what a completely uniform distribution would give\n",
        "![image.png](data:image/png;base64,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)"
      ],
      "metadata": {
        "id": "MzA2ir647X6q"
      }
    },
    {
      "cell_type": "markdown",
      "source": [
        "Also remember to respect the broadcasting semantics when manipulating tensors https://pytorch.org/docs/stable/notes/broadcasting.html\n",
        "\n",
        "For example if we had not put keepdim in our Probabilities sum calculation, we would have had a tensor of shape [27] rather than [27,1] (a column vector). What  this would have a done internally is rather than compare:\n",
        "\n",
        "> 27 x 27\n",
        "\n",
        "> 27 x 1\n",
        "\n",
        "Which is valid, we would have had (because shift to the right):\n",
        "\n",
        "> 27 x 27\n",
        "\n",
        "> _ x 27\n",
        "\n",
        "Which would evaluate to\n",
        "\n",
        "> 27 x 27\n",
        "\n",
        "> 1 x 27\n",
        "\n",
        "Which is not the same at all and would have resulted in a bug. Instead of multiplying a tensor by a column vector, we would have had a row vector! Our column probabilities would have sum to 1, but we want our rows to sum to 1 (Since the rows represent our actual combinations for a given first letter (ja, jb, jc, etc))."
      ],
      "metadata": {
        "id": "JRBBN9hn_Dz7"
      }
    },
    {
      "cell_type": "markdown",
      "source": [
        "Okay now let's calculate our loss to evaluate the quality of our model. We're going to use the negative log likelihood from maximum likelihood estimation (maximum de vraisemblance)."
      ],
      "metadata": {
        "id": "o9HPLcvsB_Xe"
      }
    },
    {
      "cell_type": "code",
      "source": [
        "for w in words[:3]:\n",
        "  chs = ['.'] + list(w) + ['.']\n",
        "  for ch1, ch2 in zip(chs, chs[1:]):\n",
        "    ix1 = lookup_table[ch1]\n",
        "    ix2 = lookup_table[ch2]\n",
        "    prob = Probabilities[ix1, ix2]\n",
        "    print(f'{ch1}{ch2}: {prob:.4f}')\n",
        "# We can check the probabilities of each pairing. We can tell our Bigram model learned SOMETHING, since some probabilities are much different from 1/27=0.04"
      ],
      "metadata": {
        "colab": {
          "base_uri": "https://localhost:8080/"
        },
        "id": "1firTimQCGGA",
        "outputId": "acb4e586-ecae-46d4-f29c-926d8dd5eab3"
      },
      "execution_count": 24,
      "outputs": [
        {
          "output_type": "stream",
          "name": "stdout",
          "text": [
            ".e: 0.0478\n",
            "em: 0.0377\n",
            "mm: 0.0253\n",
            "ma: 0.3885\n",
            "a.: 0.1958\n",
            ".o: 0.0123\n",
            "ol: 0.0779\n",
            "li: 0.1774\n",
            "iv: 0.0152\n",
            "vi: 0.3508\n",
            "ia: 0.1380\n",
            "a.: 0.1958\n",
            ".a: 0.1376\n",
            "av: 0.0246\n",
            "va: 0.2473\n",
            "a.: 0.1958\n"
          ]
        }
      ]
    },
    {
      "cell_type": "code",
      "source": [
        "# Now lets add in the log prob. The closer to 0 the better, since that means we're close to a high probability (1). But the numbers tend to dip down quckly as the probability goes down.\n",
        "# Using log works well because log(a*b*c) = log(a) + log(b) + log(c), which make probability products easier to work with.\n",
        "log_likelihood = 0.0\n",
        "n = 0\n",
        "for w in words[:3]:\n",
        "  chs = ['.'] + list(w) + ['.']\n",
        "  for ch1, ch2 in zip(chs, chs[1:]):\n",
        "    ix1 = lookup_table[ch1]\n",
        "    ix2 = lookup_table[ch2]\n",
        "    prob = Probabilities[ix1, ix2]\n",
        "    logprob = torch.log(prob)\n",
        "    log_likelihood += logprob\n",
        "    n += 1\n",
        "    print(f'{ch1}{ch2}: {prob:.4f} {logprob:.4f}')\n",
        "print(\"likelihood\", log_likelihood)\n",
        "negative_log_likelihood = -log_likelihood\n",
        "print(\"negative log likelihood\", negative_log_likelihood)\n",
        "print(\"average negative log likelihood (probably what we would use as the loss function)\", negative_log_likelihood/n)"
      ],
      "metadata": {
        "colab": {
          "base_uri": "https://localhost:8080/"
        },
        "id": "JR07xCF9GcDv",
        "outputId": "115a829f-4feb-4e32-db54-e67845a117dd"
      },
      "execution_count": 25,
      "outputs": [
        {
          "output_type": "stream",
          "name": "stdout",
          "text": [
            ".e: 0.0478 -3.0410\n",
            "em: 0.0377 -3.2793\n",
            "mm: 0.0253 -3.6753\n",
            "ma: 0.3885 -0.9454\n",
            "a.: 0.1958 -1.6305\n",
            ".o: 0.0123 -4.3965\n",
            "ol: 0.0779 -2.5526\n",
            "li: 0.1774 -1.7293\n",
            "iv: 0.0152 -4.1845\n",
            "vi: 0.3508 -1.0476\n",
            "ia: 0.1380 -1.9807\n",
            "a.: 0.1958 -1.6305\n",
            ".a: 0.1376 -1.9835\n",
            "av: 0.0246 -3.7041\n",
            "va: 0.2473 -1.3971\n",
            "a.: 0.1958 -1.6305\n",
            "likelihood tensor(-38.8086)\n",
            "negative log likelihood tensor(38.8086)\n",
            "average negative log likelihood (probably what we would use as the loss function) tensor(2.4255)\n"
          ]
        }
      ]
    },
    {
      "cell_type": "markdown",
      "source": [
        "So our model needs to minimize the average negative log likelihood loss.\n",
        "\n",
        "Our goal is to maximize the likelihood of the data with respect to our parameters, aka maximimize log likelihood, aka minimize negative log likelihood, aka minimize average negative log likelihood"
      ],
      "metadata": {
        "id": "D8U6A3zqKENR"
      }
    },
    {
      "cell_type": "markdown",
      "source": [
        "# Part 2 Neural Net"
      ],
      "metadata": {
        "id": "iCsjkdOFBpUJ"
      }
    },
    {
      "cell_type": "markdown",
      "source": [
        "While the bigram is respectable enough, there's no real way to improve it without expanding our dataset. Instead, we will do what we described when we defined our loss function, which is to minimize our loss. A good way to do this is to use good old fashioned neural networks.\n",
        "\n",
        "We're going to create a neural network that takes in our chars as input, does some stuff in the hidden layers, and outputs a probability distribution. Then using our loss function, we're going to adjust the parameters of our neural net, so that our loss is low (In other words, maximize our probabilities)."
      ],
      "metadata": {
        "id": "sks5lwlld4T8"
      }
    },
    {
      "cell_type": "code",
      "source": [
        "# First, lets create the training set of the bigrams (x,y)\n",
        "xs, ys = [], [] #xs are our inputs, ys are what we are trying to predict, aka the next char in the bigram\n",
        "\n",
        "lookup_table = {s:i+1 for i, s in enumerate(sorted(list(set(''.join(words)))))} #offset by 1\n",
        "lookup_table['.'] = 0\n",
        "\n",
        "reverse_lookup = {i:s for s, i in lookup_table.items()}\n",
        "\n",
        "for w in words[:1]: #Just the first as an example\n",
        "  chs = ['.'] + list(w) + ['.']\n",
        "  for ch1, ch2 in zip(chs, chs[1:]):\n",
        "      ix1 = lookup_table[ch1]\n",
        "      ix2 = lookup_table[ch2]\n",
        "      xs.append(ix1)\n",
        "      ys.append(ix2)\n",
        "\n",
        "xs = torch.tensor(xs) #Recommend to use .tensor as it can infer the dtype\n",
        "ys = torch.tensor(ys)"
      ],
      "metadata": {
        "id": "-FTq7pD5Bt0q"
      },
      "execution_count": 26,
      "outputs": []
    },
    {
      "cell_type": "code",
      "source": [
        "print(xs)\n",
        "print(ys)\n",
        "# We can see how it translate (when 0, then 5, aka when ., then e) (This is for .emma.)"
      ],
      "metadata": {
        "colab": {
          "base_uri": "https://localhost:8080/"
        },
        "id": "zhBHEUxIgGfB",
        "outputId": "e22e4572-7419-4718-b04f-8cb0ab4fa42e"
      },
      "execution_count": 27,
      "outputs": [
        {
          "output_type": "stream",
          "name": "stdout",
          "text": [
            "tensor([ 0,  5, 13, 13,  1])\n",
            "tensor([ 5, 13, 13,  1,  0])\n"
          ]
        }
      ]
    },
    {
      "cell_type": "markdown",
      "source": [],
      "metadata": {
        "id": "T-Yy3T2Rmx9A"
      }
    },
    {
      "cell_type": "markdown",
      "source": [
        "We have to think carefully about how we're actually going to feed our inputs and map it all out. We can't just feed integers as we have weight multiplication, a bias to add to the sum, an activation function to pass it through, etc. This would take what is essentially char index information and transform it into something else, which wouldnt tell us much.\n",
        "\n",
        "A common way of getting around this is **one-hot encoding**. This consists of creating a vector of all zeros, except for the position that corresponds to our integer (For example, 5 would be [0,0,0,0,0,1,0,0...] since our 0 corresponds to the start/end char we defined). This is a better way of representing our index integers in a neural net. Basically we're going to have 27 inputs to the first hidden layer."
      ],
      "metadata": {
        "id": "i4r4t6NphC5t"
      }
    },
    {
      "cell_type": "code",
      "source": [
        "import torch.nn.functional as F\n",
        "x_encoded = F.one_hot(xs, num_classes=len(lookup_table)).float() # Note we want it to be a float\n",
        "x_encoded.shape # For our example .emma., this creates a 5x27 tensor, with each row representing which of our 27 possible characters corresponds to the input."
      ],
      "metadata": {
        "colab": {
          "base_uri": "https://localhost:8080/"
        },
        "id": "yuoC8x7IiM1m",
        "outputId": "8faef7b9-e8a3-49c5-b133-e752bb993a74"
      },
      "execution_count": 28,
      "outputs": [
        {
          "output_type": "execute_result",
          "data": {
            "text/plain": [
              "torch.Size([5, 27])"
            ]
          },
          "metadata": {},
          "execution_count": 28
        }
      ]
    },
    {
      "cell_type": "code",
      "source": [
        "plt.imshow(x_encoded)"
      ],
      "metadata": {
        "colab": {
          "base_uri": "https://localhost:8080/",
          "height": 169
        },
        "id": "_Vqj8CVLi4c8",
        "outputId": "ad08e042-1aae-48ca-bd46-b65aacd850a4"
      },
      "execution_count": 29,
      "outputs": [
        {
          "output_type": "execute_result",
          "data": {
            "text/plain": [
              "<matplotlib.image.AxesImage at 0x7feebd314bb0>"
            ]
          },
          "metadata": {},
          "execution_count": 29
        },
        {
          "output_type": "display_data",
          "data": {
            "text/plain": [
              "<Figure size 640x480 with 1 Axes>"
            ],
            "image/png": "[encoded data removed]"
          },
          "metadata": {}
        }
      ]
    },
    {
      "cell_type": "markdown",
      "source": [
        "Now let's represent our neurons. They will take in our one-hot vectors as inputs and apply weight and bias and acivation on it."
      ],
      "metadata": {
        "id": "vWdx_10SjbAG"
      }
    },
    {
      "cell_type": "code",
      "source": [
        "# Now let's represent our neurons\n",
        "W = torch.randn((27,1)) # Initial weights, generated randomly along a normal distribution\n",
        "W"
      ],
      "metadata": {
        "colab": {
          "base_uri": "https://localhost:8080/"
        },
        "id": "Sg_8RHiki-Gb",
        "outputId": "aa3d1c49-fa08-4667-cfb3-24d998a30d8c"
      },
      "execution_count": 30,
      "outputs": [
        {
          "output_type": "execute_result",
          "data": {
            "text/plain": [
              "tensor([[-1.0703],\n",
              "        [-1.6285],\n",
              "        [-0.7956],\n",
              "        [-0.4456],\n",
              "        [-0.0061],\n",
              "        [ 0.4309],\n",
              "        [ 0.0451],\n",
              "        [-2.0916],\n",
              "        [-1.0835],\n",
              "        [-0.6545],\n",
              "        [ 0.6338],\n",
              "        [-1.7437],\n",
              "        [-1.8313],\n",
              "        [-0.3368],\n",
              "        [ 1.9203],\n",
              "        [ 0.4487],\n",
              "        [ 0.4082],\n",
              "        [ 0.8867],\n",
              "        [-0.0871],\n",
              "        [ 0.0686],\n",
              "        [-0.7242],\n",
              "        [ 0.0315],\n",
              "        [-1.0070],\n",
              "        [ 0.8917],\n",
              "        [ 1.6497],\n",
              "        [ 0.2401],\n",
              "        [-0.3444]])"
            ]
          },
          "metadata": {},
          "execution_count": 30
        }
      ]
    },
    {
      "cell_type": "code",
      "source": [
        "x_encoded @ W #@ is matrix multiplication in PyTorch, which results in a 5x1 tensor since 5x27 @ 27x1\n",
        "# This would represent the wi*xi (firing rate) values that we would get given five examples"
      ],
      "metadata": {
        "colab": {
          "base_uri": "https://localhost:8080/"
        },
        "id": "gPNzGlTMj80M",
        "outputId": "9ee7a6c7-8297-4115-ee87-a048ea374f08"
      },
      "execution_count": 31,
      "outputs": [
        {
          "output_type": "execute_result",
          "data": {
            "text/plain": [
              "tensor([[-1.0703],\n",
              "        [ 0.4309],\n",
              "        [-0.3368],\n",
              "        [-0.3368],\n",
              "        [-1.6285]])"
            ]
          },
          "metadata": {},
          "execution_count": 31
        }
      ]
    },
    {
      "cell_type": "markdown",
      "source": [],
      "metadata": {
        "id": "kl1UALTxnGZs"
      }
    },
    {
      "cell_type": "markdown",
      "source": [
        "This gives a better understanding for a single neuron, but now let's say we want 27 neurons, meaning that we will have 27 inputs to 27 neurons and we don't have any other layers, this is going to be a very small and simple neural net. Our code would change like below. Note that we're leavin our firing rate random, unbiased, and linear (no activation) for now."
      ],
      "metadata": {
        "id": "DTioSMhxk7Aw"
      }
    },
    {
      "cell_type": "code",
      "source": [
        "W = torch.randn((27,27)) # Replace our 1 with 27, so now we can evaluate in parallel all of the wi*xi values for all 27 of our neurons given our 5 input examples\n",
        "x_encoded @ W #5x27 @ 27x27 -> 5x27, our wi*xi for each of our 27 neurons\n",
        "\n",
        "#This is similar to doing (x_encoded[i] * W[:, j]).sum() a bunch of times, its just more efficient to use matrix multiplication"
      ],
      "metadata": {
        "colab": {
          "base_uri": "https://localhost:8080/"
        },
        "id": "yNAmCeTjlB4Y",
        "outputId": "ca3cad83-67c1-4c54-97d5-d953437c20db"
      },
      "execution_count": 32,
      "outputs": [
        {
          "output_type": "execute_result",
          "data": {
            "text/plain": [
              "tensor([[ 2.6238, -1.9543, -0.7781,  1.0719,  0.6906, -1.0175,  0.8013, -1.3322,\n",
              "          0.7087,  0.6578,  0.3050,  2.3164,  0.3330,  1.2944, -0.2089, -0.3664,\n",
              "          1.4304,  0.2415,  1.7604,  0.4443, -0.7708, -1.3900,  2.7953,  0.5486,\n",
              "          0.1585, -0.3879, -0.5208],\n",
              "        [-0.2583, -0.7112,  2.1026, -0.3211,  1.1215, -0.1964, -0.5694, -0.1924,\n",
              "         -1.4174, -0.0897,  0.8298,  1.0340,  0.4497,  0.1020, -0.1438,  0.7107,\n",
              "          0.9536, -1.1528,  0.3794,  0.9920, -0.4072,  0.6047, -0.5533,  0.7940,\n",
              "         -1.0244, -1.1974,  1.4768],\n",
              "        [ 0.3553, -2.7650, -0.1492,  1.3082, -1.0088, -1.2207, -0.4657,  0.9225,\n",
              "          0.3631, -1.2199, -0.1085, -1.6065,  1.1489,  1.1502,  0.7103,  3.4263,\n",
              "         -2.4636, -0.5240,  0.3183, -1.2456,  0.3509, -0.4556, -0.3945,  2.4066,\n",
              "          1.7484,  1.2963, -1.3619],\n",
              "        [ 0.3553, -2.7650, -0.1492,  1.3082, -1.0088, -1.2207, -0.4657,  0.9225,\n",
              "          0.3631, -1.2199, -0.1085, -1.6065,  1.1489,  1.1502,  0.7103,  3.4263,\n",
              "         -2.4636, -0.5240,  0.3183, -1.2456,  0.3509, -0.4556, -0.3945,  2.4066,\n",
              "          1.7484,  1.2963, -1.3619],\n",
              "        [-0.5737,  0.2714, -0.2555, -0.3345, -1.1881,  0.6904,  0.7659, -1.1973,\n",
              "          0.4541, -1.2834,  0.5062,  2.1688, -0.9409,  0.3339,  1.6350, -1.4577,\n",
              "         -2.4732,  0.3120, -0.9566,  2.0271, -1.0907,  0.5590,  1.4356,  1.6591,\n",
              "         -2.1169,  1.7822, -1.7448]])"
            ]
          },
          "metadata": {},
          "execution_count": 32
        }
      ]
    },
    {
      "cell_type": "markdown",
      "source": [
        "We do have a small problem. A probability distribution is probably not something that a neural network can output. Currently, our randomized outputs are positive and negative real numbers. What WE want is a way to indicate the probabilities of each of our bigrams, so currently this doesnt map well at all.\n",
        "\n",
        "What we can do is transform these outputs into probabilities using the **softmax** aka by giving us log counts or **logits** (rather than integer counts like we have in our N matrix) that we will then exponeniate (e(x)). So negative numbers will become greater than 0 but less than 1, and positive numbers will become greater than 1.\n",
        "\n",
        "![image.png](data:image/png;base64,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)\n",
        "\n",
        "Here is a summary of softmax, where zi is a given logit\n",
        "\n",
        "![image.png](data:image/png;base64,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)"
      ],
      "metadata": {
        "id": "B-Y9lGq_5_cD"
      }
    },
    {
      "cell_type": "code",
      "source": [
        "# For example, notice that when we exponentiate, all the negative numbers become > 0 and < 1, and all the positives become > 1\n",
        "(x_encoded @ W).exp()"
      ],
      "metadata": {
        "colab": {
          "base_uri": "https://localhost:8080/"
        },
        "id": "SS5Fz-1s7XrB",
        "outputId": "e31d09a7-e332-4d3a-83be-c5d3440ddda8"
      },
      "execution_count": 33,
      "outputs": [
        {
          "output_type": "execute_result",
          "data": {
            "text/plain": [
              "tensor([[13.7881,  0.1417,  0.4593,  2.9209,  1.9950,  0.3615,  2.2283,  0.2639,\n",
              "          2.0314,  1.9305,  1.3567, 10.1391,  1.3952,  3.6488,  0.8115,  0.6932,\n",
              "          4.1805,  1.2732,  5.8148,  1.5594,  0.4626,  0.2491, 16.3674,  1.7308,\n",
              "          1.1718,  0.6785,  0.5940],\n",
              "        [ 0.7724,  0.4910,  8.1878,  0.7254,  3.0696,  0.8217,  0.5658,  0.8250,\n",
              "          0.2423,  0.9142,  2.2930,  2.8124,  1.5679,  1.1073,  0.8660,  2.0354,\n",
              "          2.5950,  0.3158,  1.4614,  2.6966,  0.6655,  1.8308,  0.5750,  2.2122,\n",
              "          0.3590,  0.3020,  4.3788],\n",
              "        [ 1.4266,  0.0630,  0.8614,  3.6996,  0.3646,  0.2950,  0.6277,  2.5155,\n",
              "          1.4378,  0.2953,  0.8972,  0.2006,  3.1547,  3.1588,  2.0346, 30.7640,\n",
              "          0.0851,  0.5922,  1.3748,  0.2878,  1.4203,  0.6341,  0.6740, 11.0957,\n",
              "          5.7452,  3.6556,  0.2562],\n",
              "        [ 1.4266,  0.0630,  0.8614,  3.6996,  0.3646,  0.2950,  0.6277,  2.5155,\n",
              "          1.4378,  0.2953,  0.8972,  0.2006,  3.1547,  3.1588,  2.0346, 30.7640,\n",
              "          0.0851,  0.5922,  1.3748,  0.2878,  1.4203,  0.6341,  0.6740, 11.0957,\n",
              "          5.7452,  3.6556,  0.2562],\n",
              "        [ 0.5635,  1.3118,  0.7745,  0.7157,  0.3048,  1.9944,  2.1509,  0.3020,\n",
              "          1.5748,  0.2771,  1.6590,  8.7473,  0.3903,  1.3964,  5.1294,  0.2328,\n",
              "          0.0843,  1.3661,  0.3842,  7.5922,  0.3360,  1.7490,  4.2023,  5.2546,\n",
              "          0.1204,  5.9428,  0.1747]])"
            ]
          },
          "metadata": {},
          "execution_count": 33
        }
      ]
    },
    {
      "cell_type": "code",
      "source": [
        "logits = x_encoded @ W # aka our log-counts\n",
        "\n",
        "#Apply the softmax\n",
        "counts = logits.exp() # Our logit exp equivalent to our N matrix (bigrams frequency matrix)\n",
        "prob = counts / counts.sum(1, keepdims=True) # Our probability distribution where we normalize the rows\n",
        "prob #Every row will of course sum to 1. This tells us what probability our neural net assigned for each character being the second one given the first one"
      ],
      "metadata": {
        "colab": {
          "base_uri": "https://localhost:8080/"
        },
        "id": "_Gm7O3QK727A",
        "outputId": "69efaa6a-e2c7-45c2-d59a-d6bade167230"
      },
      "execution_count": 37,
      "outputs": [
        {
          "output_type": "execute_result",
          "data": {
            "text/plain": [
              "tensor([[0.1762, 0.0018, 0.0059, 0.0373, 0.0255, 0.0046, 0.0285, 0.0034, 0.0260,\n",
              "         0.0247, 0.0173, 0.1296, 0.0178, 0.0466, 0.0104, 0.0089, 0.0534, 0.0163,\n",
              "         0.0743, 0.0199, 0.0059, 0.0032, 0.2092, 0.0221, 0.0150, 0.0087, 0.0076],\n",
              "        [0.0173, 0.0110, 0.1832, 0.0162, 0.0687, 0.0184, 0.0127, 0.0185, 0.0054,\n",
              "         0.0205, 0.0513, 0.0629, 0.0351, 0.0248, 0.0194, 0.0455, 0.0581, 0.0071,\n",
              "         0.0327, 0.0603, 0.0149, 0.0410, 0.0129, 0.0495, 0.0080, 0.0068, 0.0980],\n",
              "        [0.0184, 0.0008, 0.0111, 0.0477, 0.0047, 0.0038, 0.0081, 0.0324, 0.0185,\n",
              "         0.0038, 0.0116, 0.0026, 0.0406, 0.0407, 0.0262, 0.3964, 0.0011, 0.0076,\n",
              "         0.0177, 0.0037, 0.0183, 0.0082, 0.0087, 0.1430, 0.0740, 0.0471, 0.0033],\n",
              "        [0.0184, 0.0008, 0.0111, 0.0477, 0.0047, 0.0038, 0.0081, 0.0324, 0.0185,\n",
              "         0.0038, 0.0116, 0.0026, 0.0406, 0.0407, 0.0262, 0.3964, 0.0011, 0.0076,\n",
              "         0.0177, 0.0037, 0.0183, 0.0082, 0.0087, 0.1430, 0.0740, 0.0471, 0.0033],\n",
              "        [0.0103, 0.0240, 0.0142, 0.0131, 0.0056, 0.0364, 0.0393, 0.0055, 0.0288,\n",
              "         0.0051, 0.0303, 0.1598, 0.0071, 0.0255, 0.0937, 0.0043, 0.0015, 0.0250,\n",
              "         0.0070, 0.1387, 0.0061, 0.0320, 0.0768, 0.0960, 0.0022, 0.1086, 0.0032]])"
            ]
          },
          "metadata": {},
          "execution_count": 37
        }
      ]
    },
    {
      "cell_type": "markdown",
      "source": [
        "We will then adjust our weights to continuously improve our probabilities by minimizing the loss"
      ],
      "metadata": {
        "id": "dJqM1bRsAIAW"
      }
    },
    {
      "cell_type": "markdown",
      "source": [
        "TO SUMMARIZE!"
      ],
      "metadata": {
        "id": "f3nAeI06AaF7"
      }
    },
    {
      "cell_type": "code",
      "source": [
        "# randomly init 27 neuron weights, with each neuron receiving 27 inputs\n",
        "g = torch.Generator().manual_seed(2147483647)\n",
        "W = torch.randn((27,27), generator=g)"
      ],
      "metadata": {
        "id": "p5UdILyVAdFz"
      },
      "execution_count": 44,
      "outputs": []
    },
    {
      "cell_type": "code",
      "source": [
        "# Essentially our first forward-pass\n",
        "x_encoded = F.one_hot(xs, num_classes=27).float() # input to the network: one-hot encoding\n",
        "logits = x_encoded @ W #predict log-counts, pass input to our first layer, apply weights\n",
        "\n",
        "#Apply softmax activation functon to get probabilities\n",
        "counts = logits.exp() # counts, equivalent to N\n",
        "probs = counts / counts.sum(1, keepdims=True) # probabilities for next character"
      ],
      "metadata": {
        "id": "PBOUPZpsAwax"
      },
      "execution_count": 45,
      "outputs": []
    },
    {
      "cell_type": "markdown",
      "source": [
        "Note that everything we have is differentiable, so we can then backpropagate to get our gradients and adjust the parameters (in this case, just the weights). So we can minimize the loss by calculating our gradients and using them to tune our weights.\n",
        "\n",
        "So our forwardpass gave us the probabilities at the output, and now we can use them to calculate our average negative log likelihood aka our loss, and then use that to backprop"
      ],
      "metadata": {
        "id": "7buxnMpMClYY"
      }
    },
    {
      "cell_type": "code",
      "source": [
        "# Let's break it down for our 5 examples (aka .emma.)\n",
        "nlls = torch.zeros(5)\n",
        "for i in range(5):\n",
        "  #i-th bigram\n",
        "  x = xs[i].item() # input character index\n",
        "  y = ys[i].item() # label character index\n",
        "  print('--------')\n",
        "  print(f'bigram example {i+1}: {reverse_lookup[x]}{reverse_lookup[y]} (indexes {x},{y})')\n",
        "  print('input to the neural net:', x)\n",
        "  print('output probabilities from the neural net:', probs[i])\n",
        "  print('label/target character:', y)\n",
        "  p = probs[i, y]\n",
        "  print('probability assigned by the net to the the correct character:', p.item())\n",
        "  logp = torch.log(p)\n",
        "  print('log likelihood:', logp.item())\n",
        "  nll = -logp\n",
        "  print('negative log likelihood:', nll.item())\n",
        "  nlls[i] = nll\n",
        "\n",
        "print('=========')\n",
        "print('average negative log likelihood ( very bad :( ), i.e. loss =', nlls.mean().item())"
      ],
      "metadata": {
        "colab": {
          "base_uri": "https://localhost:8080/"
        },
        "id": "IX5jyq4uDEYc",
        "outputId": "ab7e2486-525f-4470-e28d-93771b4d7eee"
      },
      "execution_count": 51,
      "outputs": [
        {
          "output_type": "stream",
          "name": "stdout",
          "text": [
            "--------\n",
            "bigram example 1: .e (indexes 0,5)\n",
            "input to the neural net: 0\n",
            "output probabilities from the neural net: tensor([0.0607, 0.0100, 0.0123, 0.0042, 0.0168, 0.0123, 0.0027, 0.0232, 0.0137,\n",
            "        0.0313, 0.0079, 0.0278, 0.0091, 0.0082, 0.0500, 0.2378, 0.0603, 0.0025,\n",
            "        0.0249, 0.0055, 0.0339, 0.0109, 0.0029, 0.0198, 0.0118, 0.1537, 0.1459])\n",
            "label/target character: 5\n",
            "probability assigned by the net to the the correct character: 0.01228625513613224\n",
            "log likelihood: -4.399273872375488\n",
            "negative log likelihood: 4.399273872375488\n",
            "--------\n",
            "bigram example 2: em (indexes 5,13)\n",
            "input to the neural net: 5\n",
            "output probabilities from the neural net: tensor([0.0290, 0.0796, 0.0248, 0.0521, 0.1989, 0.0289, 0.0094, 0.0335, 0.0097,\n",
            "        0.0301, 0.0702, 0.0228, 0.0115, 0.0181, 0.0108, 0.0315, 0.0291, 0.0045,\n",
            "        0.0916, 0.0215, 0.0486, 0.0300, 0.0501, 0.0027, 0.0118, 0.0022, 0.0472])\n",
            "label/target character: 13\n",
            "probability assigned by the net to the the correct character: 0.018050700426101685\n",
            "log likelihood: -4.014570713043213\n",
            "negative log likelihood: 4.014570713043213\n",
            "--------\n",
            "bigram example 3: mm (indexes 13,13)\n",
            "input to the neural net: 13\n",
            "output probabilities from the neural net: tensor([0.0312, 0.0737, 0.0484, 0.0333, 0.0674, 0.0200, 0.0263, 0.0249, 0.1226,\n",
            "        0.0164, 0.0075, 0.0789, 0.0131, 0.0267, 0.0147, 0.0112, 0.0585, 0.0121,\n",
            "        0.0650, 0.0058, 0.0208, 0.0078, 0.0133, 0.0203, 0.1204, 0.0469, 0.0126])\n",
            "label/target character: 13\n",
            "probability assigned by the net to the the correct character: 0.026691533625125885\n",
            "log likelihood: -3.623408794403076\n",
            "negative log likelihood: 3.623408794403076\n",
            "--------\n",
            "bigram example 4: ma (indexes 13,1)\n",
            "input to the neural net: 13\n",
            "output probabilities from the neural net: tensor([0.0312, 0.0737, 0.0484, 0.0333, 0.0674, 0.0200, 0.0263, 0.0249, 0.1226,\n",
            "        0.0164, 0.0075, 0.0789, 0.0131, 0.0267, 0.0147, 0.0112, 0.0585, 0.0121,\n",
            "        0.0650, 0.0058, 0.0208, 0.0078, 0.0133, 0.0203, 0.1204, 0.0469, 0.0126])\n",
            "label/target character: 1\n",
            "probability assigned by the net to the the correct character: 0.07367686182260513\n",
            "log likelihood: -2.6080665588378906\n",
            "negative log likelihood: 2.6080665588378906\n",
            "--------\n",
            "bigram example 5: a. (indexes 1,0)\n",
            "input to the neural net: 1\n",
            "output probabilities from the neural net: tensor([0.0150, 0.0086, 0.0396, 0.0100, 0.0606, 0.0308, 0.1084, 0.0131, 0.0125,\n",
            "        0.0048, 0.1024, 0.0086, 0.0988, 0.0112, 0.0232, 0.0207, 0.0408, 0.0078,\n",
            "        0.0899, 0.0531, 0.0463, 0.0309, 0.0051, 0.0329, 0.0654, 0.0503, 0.0091])\n",
            "label/target character: 0\n",
            "probability assigned by the net to the the correct character: 0.014977526850998402\n",
            "log likelihood: -4.201204299926758\n",
            "negative log likelihood: 4.201204299926758\n",
            "=========\n",
            "average negative log likelihood ( very bad :( ), i.e. loss = 3.7693049907684326\n"
          ]
        }
      ]
    },
    {
      "cell_type": "markdown",
      "source": [
        "## What we're gonna do now is very similar to what was done in micrograd, except this is classification rather than regression"
      ],
      "metadata": {
        "id": "ATkVr3KwH8fA"
      }
    },
    {
      "cell_type": "code",
      "source": [
        "# What we're gonna do now is very similar to what was done in micrograd, except this is classification rather than regression\n",
        "\n",
        "probs[torch.arange(5), ys] # We're interested in probs[0,5] probs[1,13] probs[2,13] probs[3,1] and probs [4, 5]"
      ],
      "metadata": {
        "colab": {
          "base_uri": "https://localhost:8080/"
        },
        "id": "ETqXUTUHD-Jd",
        "outputId": "3fa69260-5a5b-4e24-d297-185535cc7385"
      },
      "execution_count": 79,
      "outputs": [
        {
          "output_type": "execute_result",
          "data": {
            "text/plain": [
              "tensor([0.0123, 0.0181, 0.0267, 0.0737, 0.0150], grad_fn=<IndexBackward0>)"
            ]
          },
          "metadata": {},
          "execution_count": 79
        }
      ]
    },
    {
      "cell_type": "code",
      "source": [
        "#We want the averange negative log prob\n",
        "loss = -probs[torch.arange(5), ys].log().mean()\n",
        "loss #Notive its the exact same as before, but vectorized to calculate it"
      ],
      "metadata": {
        "colab": {
          "base_uri": "https://localhost:8080/"
        },
        "id": "GacM_xaAHjKi",
        "outputId": "92229b61-70d3-4cf5-9b06-816b23aacb11"
      },
      "execution_count": 80,
      "outputs": [
        {
          "output_type": "execute_result",
          "data": {
            "text/plain": [
              "tensor(3.7693, grad_fn=<NegBackward0>)"
            ]
          },
          "metadata": {},
          "execution_count": 80
        }
      ]
    },
    {
      "cell_type": "code",
      "source": [
        "# Summarized\n",
        "g = torch.Generator().manual_seed(2147483647)\n",
        "W = torch.randn((27,27), generator=g, requires_grad=True) # requires_grad to tell pytorch we want the gradient for our leaf tensor\n",
        "\n",
        "#forward pass\n",
        "x_encoded = F.one_hot(xs, num_classes=27).float()\n",
        "logits = x_encoded @ W\n",
        "counts = logits.exp()\n",
        "probs = counts / counts.sum(1, keepdims=True)\n",
        "loss = -probs[torch.arange(5), ys].log().mean()"
      ],
      "metadata": {
        "id": "yYMERCh5IOnL"
      },
      "execution_count": 81,
      "outputs": []
    },
    {
      "cell_type": "code",
      "source": [
        "#backward pass\n",
        "W.grad = None # set to zero\n",
        "loss.backward() # We now have the grads of W\n"
      ],
      "metadata": {
        "id": "YSBfwKpRIfQx"
      },
      "execution_count": null,
      "outputs": []
    },
    {
      "cell_type": "code",
      "source": [
        "W.grad # each number tells us the influence of the weight on our loss (remember from micrograd, positive gradient tells us to decrease the weight, negative tells us to increase)"
      ],
      "metadata": {
        "colab": {
          "base_uri": "https://localhost:8080/"
        },
        "id": "l_1__JWNI0AX",
        "outputId": "91308603-556a-4ea1-df30-e8690eecd069"
      },
      "execution_count": 83,
      "outputs": [
        {
          "output_type": "execute_result",
          "data": {
            "text/plain": [
              "tensor([[ 0.0121,  0.0020,  0.0025,  0.0008,  0.0034, -0.1975,  0.0005,  0.0046,\n",
              "          0.0027,  0.0063,  0.0016,  0.0056,  0.0018,  0.0016,  0.0100,  0.0476,\n",
              "          0.0121,  0.0005,  0.0050,  0.0011,  0.0068,  0.0022,  0.0006,  0.0040,\n",
              "          0.0024,  0.0307,  0.0292],\n",
              "        [-0.1970,  0.0017,  0.0079,  0.0020,  0.0121,  0.0062,  0.0217,  0.0026,\n",
              "          0.0025,  0.0010,  0.0205,  0.0017,  0.0198,  0.0022,  0.0046,  0.0041,\n",
              "          0.0082,  0.0016,  0.0180,  0.0106,  0.0093,  0.0062,  0.0010,  0.0066,\n",
              "          0.0131,  0.0101,  0.0018],\n",
              "        [ 0.0000,  0.0000,  0.0000,  0.0000,  0.0000,  0.0000,  0.0000,  0.0000,\n",
              "          0.0000,  0.0000,  0.0000,  0.0000,  0.0000,  0.0000,  0.0000,  0.0000,\n",
              "          0.0000,  0.0000,  0.0000,  0.0000,  0.0000,  0.0000,  0.0000,  0.0000,\n",
              "          0.0000,  0.0000,  0.0000],\n",
              "        [ 0.0000,  0.0000,  0.0000,  0.0000,  0.0000,  0.0000,  0.0000,  0.0000,\n",
              "          0.0000,  0.0000,  0.0000,  0.0000,  0.0000,  0.0000,  0.0000,  0.0000,\n",
              "          0.0000,  0.0000,  0.0000,  0.0000,  0.0000,  0.0000,  0.0000,  0.0000,\n",
              "          0.0000,  0.0000,  0.0000],\n",
              "        [ 0.0000,  0.0000,  0.0000,  0.0000,  0.0000,  0.0000,  0.0000,  0.0000,\n",
              "          0.0000,  0.0000,  0.0000,  0.0000,  0.0000,  0.0000,  0.0000,  0.0000,\n",
              "          0.0000,  0.0000,  0.0000,  0.0000,  0.0000,  0.0000,  0.0000,  0.0000,\n",
              "          0.0000,  0.0000,  0.0000],\n",
              "        [ 0.0058,  0.0159,  0.0050,  0.0104,  0.0398,  0.0058,  0.0019,  0.0067,\n",
              "          0.0019,  0.0060,  0.0140,  0.0046,  0.0023, -0.1964,  0.0022,  0.0063,\n",
              "          0.0058,  0.0009,  0.0183,  0.0043,  0.0097,  0.0060,  0.0100,  0.0005,\n",
              "          0.0024,  0.0004,  0.0094],\n",
              "        [ 0.0000,  0.0000,  0.0000,  0.0000,  0.0000,  0.0000,  0.0000,  0.0000,\n",
              "          0.0000,  0.0000,  0.0000,  0.0000,  0.0000,  0.0000,  0.0000,  0.0000,\n",
              "          0.0000,  0.0000,  0.0000,  0.0000,  0.0000,  0.0000,  0.0000,  0.0000,\n",
              "          0.0000,  0.0000,  0.0000],\n",
              "        [ 0.0000,  0.0000,  0.0000,  0.0000,  0.0000,  0.0000,  0.0000,  0.0000,\n",
              "          0.0000,  0.0000,  0.0000,  0.0000,  0.0000,  0.0000,  0.0000,  0.0000,\n",
              "          0.0000,  0.0000,  0.0000,  0.0000,  0.0000,  0.0000,  0.0000,  0.0000,\n",
              "          0.0000,  0.0000,  0.0000],\n",
              "        [ 0.0000,  0.0000,  0.0000,  0.0000,  0.0000,  0.0000,  0.0000,  0.0000,\n",
              "          0.0000,  0.0000,  0.0000,  0.0000,  0.0000,  0.0000,  0.0000,  0.0000,\n",
              "          0.0000,  0.0000,  0.0000,  0.0000,  0.0000,  0.0000,  0.0000,  0.0000,\n",
              "          0.0000,  0.0000,  0.0000],\n",
              "        [ 0.0000,  0.0000,  0.0000,  0.0000,  0.0000,  0.0000,  0.0000,  0.0000,\n",
              "          0.0000,  0.0000,  0.0000,  0.0000,  0.0000,  0.0000,  0.0000,  0.0000,\n",
              "          0.0000,  0.0000,  0.0000,  0.0000,  0.0000,  0.0000,  0.0000,  0.0000,\n",
              "          0.0000,  0.0000,  0.0000],\n",
              "        [ 0.0000,  0.0000,  0.0000,  0.0000,  0.0000,  0.0000,  0.0000,  0.0000,\n",
              "          0.0000,  0.0000,  0.0000,  0.0000,  0.0000,  0.0000,  0.0000,  0.0000,\n",
              "          0.0000,  0.0000,  0.0000,  0.0000,  0.0000,  0.0000,  0.0000,  0.0000,\n",
              "          0.0000,  0.0000,  0.0000],\n",
              "        [ 0.0000,  0.0000,  0.0000,  0.0000,  0.0000,  0.0000,  0.0000,  0.0000,\n",
              "          0.0000,  0.0000,  0.0000,  0.0000,  0.0000,  0.0000,  0.0000,  0.0000,\n",
              "          0.0000,  0.0000,  0.0000,  0.0000,  0.0000,  0.0000,  0.0000,  0.0000,\n",
              "          0.0000,  0.0000,  0.0000],\n",
              "        [ 0.0000,  0.0000,  0.0000,  0.0000,  0.0000,  0.0000,  0.0000,  0.0000,\n",
              "          0.0000,  0.0000,  0.0000,  0.0000,  0.0000,  0.0000,  0.0000,  0.0000,\n",
              "          0.0000,  0.0000,  0.0000,  0.0000,  0.0000,  0.0000,  0.0000,  0.0000,\n",
              "          0.0000,  0.0000,  0.0000],\n",
              "        [ 0.0125, -0.1705,  0.0194,  0.0133,  0.0270,  0.0080,  0.0105,  0.0100,\n",
              "          0.0490,  0.0066,  0.0030,  0.0316,  0.0052, -0.1893,  0.0059,  0.0045,\n",
              "          0.0234,  0.0049,  0.0260,  0.0023,  0.0083,  0.0031,  0.0053,  0.0081,\n",
              "          0.0482,  0.0187,  0.0051],\n",
              "        [ 0.0000,  0.0000,  0.0000,  0.0000,  0.0000,  0.0000,  0.0000,  0.0000,\n",
              "          0.0000,  0.0000,  0.0000,  0.0000,  0.0000,  0.0000,  0.0000,  0.0000,\n",
              "          0.0000,  0.0000,  0.0000,  0.0000,  0.0000,  0.0000,  0.0000,  0.0000,\n",
              "          0.0000,  0.0000,  0.0000],\n",
              "        [ 0.0000,  0.0000,  0.0000,  0.0000,  0.0000,  0.0000,  0.0000,  0.0000,\n",
              "          0.0000,  0.0000,  0.0000,  0.0000,  0.0000,  0.0000,  0.0000,  0.0000,\n",
              "          0.0000,  0.0000,  0.0000,  0.0000,  0.0000,  0.0000,  0.0000,  0.0000,\n",
              "          0.0000,  0.0000,  0.0000],\n",
              "        [ 0.0000,  0.0000,  0.0000,  0.0000,  0.0000,  0.0000,  0.0000,  0.0000,\n",
              "          0.0000,  0.0000,  0.0000,  0.0000,  0.0000,  0.0000,  0.0000,  0.0000,\n",
              "          0.0000,  0.0000,  0.0000,  0.0000,  0.0000,  0.0000,  0.0000,  0.0000,\n",
              "          0.0000,  0.0000,  0.0000],\n",
              "        [ 0.0000,  0.0000,  0.0000,  0.0000,  0.0000,  0.0000,  0.0000,  0.0000,\n",
              "          0.0000,  0.0000,  0.0000,  0.0000,  0.0000,  0.0000,  0.0000,  0.0000,\n",
              "          0.0000,  0.0000,  0.0000,  0.0000,  0.0000,  0.0000,  0.0000,  0.0000,\n",
              "          0.0000,  0.0000,  0.0000],\n",
              "        [ 0.0000,  0.0000,  0.0000,  0.0000,  0.0000,  0.0000,  0.0000,  0.0000,\n",
              "          0.0000,  0.0000,  0.0000,  0.0000,  0.0000,  0.0000,  0.0000,  0.0000,\n",
              "          0.0000,  0.0000,  0.0000,  0.0000,  0.0000,  0.0000,  0.0000,  0.0000,\n",
              "          0.0000,  0.0000,  0.0000],\n",
              "        [ 0.0000,  0.0000,  0.0000,  0.0000,  0.0000,  0.0000,  0.0000,  0.0000,\n",
              "          0.0000,  0.0000,  0.0000,  0.0000,  0.0000,  0.0000,  0.0000,  0.0000,\n",
              "          0.0000,  0.0000,  0.0000,  0.0000,  0.0000,  0.0000,  0.0000,  0.0000,\n",
              "          0.0000,  0.0000,  0.0000],\n",
              "        [ 0.0000,  0.0000,  0.0000,  0.0000,  0.0000,  0.0000,  0.0000,  0.0000,\n",
              "          0.0000,  0.0000,  0.0000,  0.0000,  0.0000,  0.0000,  0.0000,  0.0000,\n",
              "          0.0000,  0.0000,  0.0000,  0.0000,  0.0000,  0.0000,  0.0000,  0.0000,\n",
              "          0.0000,  0.0000,  0.0000],\n",
              "        [ 0.0000,  0.0000,  0.0000,  0.0000,  0.0000,  0.0000,  0.0000,  0.0000,\n",
              "          0.0000,  0.0000,  0.0000,  0.0000,  0.0000,  0.0000,  0.0000,  0.0000,\n",
              "          0.0000,  0.0000,  0.0000,  0.0000,  0.0000,  0.0000,  0.0000,  0.0000,\n",
              "          0.0000,  0.0000,  0.0000],\n",
              "        [ 0.0000,  0.0000,  0.0000,  0.0000,  0.0000,  0.0000,  0.0000,  0.0000,\n",
              "          0.0000,  0.0000,  0.0000,  0.0000,  0.0000,  0.0000,  0.0000,  0.0000,\n",
              "          0.0000,  0.0000,  0.0000,  0.0000,  0.0000,  0.0000,  0.0000,  0.0000,\n",
              "          0.0000,  0.0000,  0.0000],\n",
              "        [ 0.0000,  0.0000,  0.0000,  0.0000,  0.0000,  0.0000,  0.0000,  0.0000,\n",
              "          0.0000,  0.0000,  0.0000,  0.0000,  0.0000,  0.0000,  0.0000,  0.0000,\n",
              "          0.0000,  0.0000,  0.0000,  0.0000,  0.0000,  0.0000,  0.0000,  0.0000,\n",
              "          0.0000,  0.0000,  0.0000],\n",
              "        [ 0.0000,  0.0000,  0.0000,  0.0000,  0.0000,  0.0000,  0.0000,  0.0000,\n",
              "          0.0000,  0.0000,  0.0000,  0.0000,  0.0000,  0.0000,  0.0000,  0.0000,\n",
              "          0.0000,  0.0000,  0.0000,  0.0000,  0.0000,  0.0000,  0.0000,  0.0000,\n",
              "          0.0000,  0.0000,  0.0000],\n",
              "        [ 0.0000,  0.0000,  0.0000,  0.0000,  0.0000,  0.0000,  0.0000,  0.0000,\n",
              "          0.0000,  0.0000,  0.0000,  0.0000,  0.0000,  0.0000,  0.0000,  0.0000,\n",
              "          0.0000,  0.0000,  0.0000,  0.0000,  0.0000,  0.0000,  0.0000,  0.0000,\n",
              "          0.0000,  0.0000,  0.0000],\n",
              "        [ 0.0000,  0.0000,  0.0000,  0.0000,  0.0000,  0.0000,  0.0000,  0.0000,\n",
              "          0.0000,  0.0000,  0.0000,  0.0000,  0.0000,  0.0000,  0.0000,  0.0000,\n",
              "          0.0000,  0.0000,  0.0000,  0.0000,  0.0000,  0.0000,  0.0000,  0.0000,\n",
              "          0.0000,  0.0000,  0.0000]])"
            ]
          },
          "metadata": {},
          "execution_count": 83
        }
      ]
    },
    {
      "cell_type": "code",
      "source": [
        "# update based on gradients\n",
        "W.data += -0.1 * W.grad\n",
        "\n",
        "# And we would expect our loss to decrease\n",
        "print(\"first loss\", loss.item())\n",
        "\n",
        "#forward pass\n",
        "x_encoded = F.one_hot(xs, num_classes=27).float()\n",
        "logits = x_encoded @ W\n",
        "counts = logits.exp()\n",
        "probs = counts / counts.sum(1, keepdims=True)\n",
        "loss = -probs[torch.arange(5), ys].log().mean()\n",
        "\n",
        "print(\"second loss\", loss.item()) # We can now continuously do this to improve our model"
      ],
      "metadata": {
        "colab": {
          "base_uri": "https://localhost:8080/"
        },
        "id": "KmWww8z3J4kw",
        "outputId": "43f34be2-54e8-4b33-a116-df3a5c22e11f"
      },
      "execution_count": 86,
      "outputs": [
        {
          "output_type": "stream",
          "name": "stdout",
          "text": [
            "first loss 3.7693049907684326\n",
            "second loss 3.7291417121887207\n"
          ]
        }
      ]
    },
    {
      "cell_type": "markdown",
      "source": [
        "We now have everything we need to run a neural network"
      ],
      "metadata": {
        "id": "VFf8GnsRKr1G"
      }
    },
    {
      "cell_type": "code",
      "source": [
        "xs, ys = [], []\n",
        "for w in words:\n",
        "  chs = ['.'] + list(w) + ['.']\n",
        "  for ch1, ch2 in zip(chs, chs[1:]):\n",
        "    ix1 = lookup_table[ch1]\n",
        "    ix2 = lookup_table[ch2]\n",
        "    xs.append(ix1)\n",
        "    ys.append(ix2)\n",
        "xs = torch.tensor(xs)\n",
        "ys = torch.tensor(ys)\n",
        "num = xs.nelement()\n",
        "print('number of examples: ', num)\n",
        "\n",
        "#init the network\n",
        "g = torch.Generator().manual_seed(2147483647)\n",
        "W = torch.randn((27,27), generator=g, requires_grad=True)"
      ],
      "metadata": {
        "colab": {
          "base_uri": "https://localhost:8080/"
        },
        "id": "Pxo_kR6GKrEy",
        "outputId": "ba7f0dd6-6430-418a-8129-99386d9f26eb"
      },
      "execution_count": 113,
      "outputs": [
        {
          "output_type": "stream",
          "name": "stdout",
          "text": [
            "number of examples:  228146\n"
          ]
        }
      ]
    },
    {
      "cell_type": "code",
      "source": [
        "# gradient descent\n",
        "for k in range(100):\n",
        "  #forward pass\n",
        "  x_encoded = F.one_hot(xs, num_classes=27).float()\n",
        "  logits = x_encoded @ W\n",
        "  counts = logits.exp()\n",
        "  probs = counts / counts.sum(1, keepdims=True)\n",
        "  loss = -probs[torch.arange(num), ys].log().mean()\n",
        "  print(loss.item())\n",
        "\n",
        "  #backward pass\n",
        "  W.grad = None #zero_grad\n",
        "  loss.backward() # Roughly this should get close to 2.47, which is how well we did with our basic bigram counting model\n",
        "\n",
        "  #update\n",
        "  W.data += -50 * W.grad #We can afford large steps here"
      ],
      "metadata": {
        "colab": {
          "base_uri": "https://localhost:8080/"
        },
        "id": "pbE6IbHuLQLk",
        "outputId": "b3c7b581-8ef8-4808-b70d-6dfcf4d48234"
      },
      "execution_count": 114,
      "outputs": [
        {
          "output_type": "stream",
          "name": "stdout",
          "text": [
            "3.758953809738159\n",
            "3.371100425720215\n",
            "3.1540427207946777\n",
            "3.020373582839966\n",
            "2.927711009979248\n",
            "2.8604023456573486\n",
            "2.8097288608551025\n",
            "2.7701022624969482\n",
            "2.7380728721618652\n",
            "2.711496591567993\n",
            "2.6890032291412354\n",
            "2.6696884632110596\n",
            "2.65293025970459\n",
            "2.638277769088745\n",
            "2.6253879070281982\n",
            "2.613990545272827\n",
            "2.60386323928833\n",
            "2.5948219299316406\n",
            "2.5867116451263428\n",
            "2.5794036388397217\n",
            "2.572789192199707\n",
            "2.5667762756347656\n",
            "2.5612878799438477\n",
            "2.5562586784362793\n",
            "2.551633596420288\n",
            "2.547365665435791\n",
            "2.543415069580078\n",
            "2.5397486686706543\n",
            "2.536336660385132\n",
            "2.5331544876098633\n",
            "2.5301804542541504\n",
            "2.5273969173431396\n",
            "2.5247862339019775\n",
            "2.522334337234497\n",
            "2.520028829574585\n",
            "2.517857789993286\n",
            "2.515810966491699\n",
            "2.513878345489502\n",
            "2.512052059173584\n",
            "2.5103237628936768\n",
            "2.5086872577667236\n",
            "2.5071349143981934\n",
            "2.5056614875793457\n",
            "2.5042612552642822\n",
            "2.5029289722442627\n",
            "2.5016608238220215\n",
            "2.5004520416259766\n",
            "2.4992988109588623\n",
            "2.498197317123413\n",
            "2.4971446990966797\n",
            "2.4961376190185547\n",
            "2.495173692703247\n",
            "2.4942493438720703\n",
            "2.493363380432129\n",
            "2.4925124645233154\n",
            "2.4916954040527344\n",
            "2.4909095764160156\n",
            "2.4901537895202637\n",
            "2.4894261360168457\n",
            "2.488725423812866\n",
            "2.4880495071411133\n",
            "2.4873976707458496\n",
            "2.4867680072784424\n",
            "2.4861605167388916\n",
            "2.4855730533599854\n",
            "2.4850049018859863\n",
            "2.4844553470611572\n",
            "2.4839231967926025\n",
            "2.483407735824585\n",
            "2.4829084873199463\n",
            "2.482424259185791\n",
            "2.481955051422119\n",
            "2.481499195098877\n",
            "2.4810569286346436\n",
            "2.4806275367736816\n",
            "2.480210304260254\n",
            "2.479804515838623\n",
            "2.479410409927368\n",
            "2.4790267944335938\n",
            "2.4786536693573\n",
            "2.478290557861328\n",
            "2.4779367446899414\n",
            "2.4775924682617188\n",
            "2.477257251739502\n",
            "2.4769303798675537\n",
            "2.476611375808716\n",
            "2.4763007164001465\n",
            "2.4759979248046875\n",
            "2.4757025241851807\n",
            "2.4754140377044678\n",
            "2.475132703781128\n",
            "2.474858045578003\n",
            "2.4745898246765137\n",
            "2.474327564239502\n",
            "2.474071741104126\n",
            "2.4738216400146484\n",
            "2.4735772609710693\n",
            "2.4733383655548096\n",
            "2.473104476928711\n",
            "2.4728763103485107\n"
          ]
        }
      ]
    },
    {
      "cell_type": "markdown",
      "source": [
        "So we end up with a model that's roughly similar to what we got when doing simply bigram counting. But the advantage is that now we have a much more flexible and fundemanetally simple solution. As we go from this basic neural net all the way to MLPs and Transformers, fundemanetally the principal will remain the same, what will change is how we calculate our logits and how we forward pass.\n",
        "\n",
        "Currently the way we tokenize by storing combinations in a table is extremely basic and doesn't scale very well to real large language models. The prinicipal, however, will not change, simply the way we represent it."
      ],
      "metadata": {
        "id": "p90I7gmKNGSU"
      }
    },
    {
      "cell_type": "markdown",
      "source": [
        "## Note 1 - W vs N\n",
        "\n"
      ],
      "metadata": {
        "id": "Z-O2M3A4O6am"
      }
    },
    {
      "cell_type": "markdown",
      "source": [
        "When we do\n",
        "\n",
        "logits = xenc @ W\n",
        "\n",
        "While we say this is like our one-hot inputs being applied to the weights, what's actually happening is that we \"pluck out\" the i-th position of W (So for example, if position 4 (out of 0!) is the 1, then we're really just fetching the 5th row of weights from the matrix. This is due to how matrix multiplication works (throwback to highschool)\n",
        "\n",
        "![image.png](data:image/png;base64,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)"
      ],
      "metadata": {
        "id": "hEJ_Z7BVQ9mG"
      }
    },
    {
      "cell_type": "markdown",
      "source": [
        "Essentially, our logits are just the row of weights from W we're interested in.\n",
        "\n",
        "This is why we can say that our W is almost the exact equivalent to the N matrix we had previously, except representing our logits (log-counts) rather than our actual counts"
      ],
      "metadata": {
        "id": "AiE-_vJVR4Z6"
      }
    },
    {
      "cell_type": "markdown",
      "source": [
        "## Note 2 - Smoothing and regularization loss"
      ],
      "metadata": {
        "id": "mIRchl9kO-OP"
      }
    },
    {
      "cell_type": "markdown",
      "source": [
        "Recall when we applied smoothing by adding fake counts (N+1). If we were to increase the count by more than just 1, the probabilities would become more and more uniform, aka less and less \"spiky\".\n",
        "\n",
        "The gradient based framework, aka the Neural Net here, has a similar mechanism. For example, had we set W to be all zeros, then our exponentiated logits would simply all be 1, meaning that we would have had a completely uniform distribution to begin with. In other words, when our W values are initially all equivalent, then our probabilities come out completely uniform.\n",
        "\n",
        "So incentivising W to be near zero is a form of smoothing. The greater this incentive, the smoother the model.\n",
        "\n",
        "This brings us to **regularization loss**.\n",
        "\n",
        "This allows us to augment our loss function by adding a component known as regularization loss. In our example, we could square the weights to lose our signs. With this number, we achieve 0 regularized loss as the values of W are closer to 0, but as W has non-zero numbers, we accumulate more and more regularized loss. We can then define a specific regularization rate to apply to our additional loss calculation.\n",
        "\n",
        "In practice, this mean that not only will be try to adjust our probabilities, but also the smoothness of our model by getting our weights as close as possible to zero (with respect ot he regulariztion rate). We can think of as applying pressure to the weights.\n",
        "\n",
        "Increasing our regularization rate is the same in prinicipal as increasing our fake count addition with the basic bigram counting model. It smooths the model out and keeps it more \"honest\", but too much and it will make it perform horribly."
      ],
      "metadata": {
        "id": "xi95bfmMTiF0"
      }
    },
    {
      "cell_type": "code",
      "source": [
        "# For example (Look at the loss calculation)\n",
        "xs, ys = [], []\n",
        "for w in words:\n",
        "  chs = ['.'] + list(w) + ['.']\n",
        "  for ch1, ch2 in zip(chs, chs[1:]):\n",
        "    ix1 = lookup_table[ch1]\n",
        "    ix2 = lookup_table[ch2]\n",
        "    xs.append(ix1)\n",
        "    ys.append(ix2)\n",
        "xs = torch.tensor(xs)\n",
        "ys = torch.tensor(ys)\n",
        "num = xs.nelement()\n",
        "print('number of examples: ', num)\n",
        "\n",
        "#init the network\n",
        "g = torch.Generator().manual_seed(2147483647)\n",
        "W = torch.randn((27,27), generator=g, requires_grad=True)\n",
        "\n",
        "# gradient descent\n",
        "for k in range(100):\n",
        "  #forward pass\n",
        "  x_encoded = F.one_hot(xs, num_classes=27).float()\n",
        "  logits = x_encoded @ W\n",
        "  counts = logits.exp()\n",
        "  probs = counts / counts.sum(1, keepdims=True)\n",
        "  loss = -probs[torch.arange(num), ys].log().mean() + 0.01*(W**2).mean() # NEW! With this we're not just trying to make our probabilities work out, we also want to get our Ws as close as possible to zero, in order to smooth out our model\n",
        "  print(loss.item())\n",
        "\n",
        "  #backward pass\n",
        "  W.grad = None #zero_grad\n",
        "  loss.backward() # Roughly this should get close to 2.47, which is how well we did with our basic bigram counting model\n",
        "\n",
        "  #update\n",
        "  W.data += -50 * W.grad #We can afford large steps here"
      ],
      "metadata": {
        "colab": {
          "base_uri": "https://localhost:8080/"
        },
        "id": "5FbF-2_rVY93",
        "outputId": "4fd483cc-25c3-46a2-e1fe-bba0a2d74be3"
      },
      "execution_count": 127,
      "outputs": [
        {
          "output_type": "stream",
          "name": "stdout",
          "text": [
            "number of examples:  228146\n",
            "3.7686190605163574\n",
            "3.3788065910339355\n",
            "3.16109037399292\n",
            "3.0271859169006348\n",
            "2.9344842433929443\n",
            "2.867231607437134\n",
            "2.8166542053222656\n",
            "2.777146339416504\n",
            "2.7452542781829834\n",
            "2.7188303470611572\n",
            "2.696505546569824\n",
            "2.6773719787597656\n",
            "2.6608052253723145\n",
            "2.6463515758514404\n",
            "2.633664846420288\n",
            "2.622471570968628\n",
            "2.6125476360321045\n",
            "2.6037068367004395\n",
            "2.595794916152954\n",
            "2.5886809825897217\n",
            "2.5822560787200928\n",
            "2.5764293670654297\n",
            "2.5711236000061035\n",
            "2.5662729740142822\n",
            "2.5618228912353516\n",
            "2.5577263832092285\n",
            "2.5539441108703613\n",
            "2.550442695617676\n",
            "2.5471925735473633\n",
            "2.5441696643829346\n",
            "2.5413522720336914\n",
            "2.538722038269043\n",
            "2.536262035369873\n",
            "2.5339581966400146\n",
            "2.531797409057617\n",
            "2.529768228530884\n",
            "2.527859926223755\n",
            "2.5260636806488037\n",
            "2.5243701934814453\n",
            "2.522773265838623\n",
            "2.52126407623291\n",
            "2.519836902618408\n",
            "2.5184857845306396\n",
            "2.5172054767608643\n",
            "2.515990734100342\n",
            "2.5148372650146484\n",
            "2.5137407779693604\n",
            "2.512697696685791\n",
            "2.511704921722412\n",
            "2.5107581615448\n",
            "2.509854555130005\n",
            "2.5089924335479736\n",
            "2.5081682205200195\n",
            "2.507380485534668\n",
            "2.5066261291503906\n",
            "2.5059032440185547\n",
            "2.5052106380462646\n",
            "2.5045459270477295\n",
            "2.5039076805114746\n",
            "2.503295421600342\n",
            "2.5027060508728027\n",
            "2.5021393299102783\n",
            "2.5015945434570312\n",
            "2.5010693073272705\n",
            "2.500562906265259\n",
            "2.500075578689575\n",
            "2.4996044635772705\n",
            "2.499150514602661\n",
            "2.4987120628356934\n",
            "2.498288154602051\n",
            "2.4978790283203125\n",
            "2.4974827766418457\n",
            "2.4970996379852295\n",
            "2.4967293739318848\n",
            "2.496370315551758\n",
            "2.4960227012634277\n",
            "2.4956858158111572\n",
            "2.4953596591949463\n",
            "2.4950435161590576\n",
            "2.494736433029175\n",
            "2.4944381713867188\n",
            "2.494149684906006\n",
            "2.4938690662384033\n",
            "2.4935967922210693\n",
            "2.4933323860168457\n",
            "2.493075132369995\n",
            "2.4928252696990967\n",
            "2.492582321166992\n",
            "2.49234676361084\n",
            "2.492116689682007\n",
            "2.4918932914733887\n",
            "2.491676092147827\n",
            "2.491464376449585\n",
            "2.491258382797241\n",
            "2.491058111190796\n",
            "2.4908623695373535\n",
            "2.4906723499298096\n",
            "2.4904870986938477\n",
            "2.4903063774108887\n",
            "2.4901304244995117\n"
          ]
        }
      ]
    },
    {
      "cell_type": "markdown",
      "source": [
        "## Final word for Neural Net: How to sample"
      ],
      "metadata": {
        "id": "MwmcEVULYP6K"
      }
    },
    {
      "cell_type": "code",
      "source": [
        "g = torch.Generator().manual_seed(2147483647)\n",
        "\n",
        "for i in range(10):\n",
        "  out = []\n",
        "  ix = 0\n",
        "  while True:\n",
        "     #With our bigram model, it was probs = Probabilities[ix]. Now its\n",
        "     logits = F.one_hot(torch.tensor([ix]), num_classes=27).float() @ W\n",
        "     counts = logits.exp()\n",
        "     probs = counts / counts.sum(1, keepdims=True)\n",
        "\n",
        "     ix = torch.multinomial(probs, num_samples=1, replacement=True, generator=g).item()\n",
        "     out.append(reverse_lookup[ix])\n",
        "     if ix == 0:\n",
        "      break\n",
        "  print(''.join(out)) # Hint it still kinda sucks"
      ],
      "metadata": {
        "colab": {
          "base_uri": "https://localhost:8080/"
        },
        "id": "ebVMhotoYXGu",
        "outputId": "cd70770f-0696-4afa-a980-89f001d427c9"
      },
      "execution_count": 134,
      "outputs": [
        {
          "output_type": "stream",
          "name": "stdout",
          "text": [
            "junide.\n",
            "janasah.\n",
            "p.\n",
            "cfay.\n",
            "a.\n",
            "nn.\n",
            "kohin.\n",
            "tolian.\n",
            "juwe.\n",
            "kalanaauranilevias.\n"
          ]
        }
      ]
    }
  ]
}